{
 "cells": [
  {
   "cell_type": "code",
   "execution_count": 2,
   "metadata": {},
   "outputs": [],
   "source": [
    "import matplotlib.pyplot\n",
    "import numpy\n",
    "import sklearn\n",
    "from IPython.display import Image\n",
    "import mpl_toolkits.mplot3d\n",
    "import pandas\n",
    "import keras\n",
    "import graphviz\n",
    "import time\n",
    "import ipywidgets"
   ]
  },
  {
   "cell_type": "markdown",
   "metadata": {},
   "source": [
    "Please, let me know if you have problems with these packages.\n",
    "\n",
    "...and finally a test for pictures.\n",
    "\n",
    "![](https://nbviewer.org/github/spinastro/UniPd_ML/blob/f84b0167e851f9f2226561babeed15b6d5db9ec3/figures/test.jpg)\n",
    "\n",
    "For any problem write me at lorenzo.spina@inaf.it"
   ]
  },
  {
   "cell_type": "code",
   "execution_count": null,
   "metadata": {},
   "outputs": [],
   "source": []
  }
 ],
 "metadata": {
  "kernelspec": {
   "display_name": "Python 3",
   "language": "python",
   "name": "python3"
  },
  "language_info": {
   "codemirror_mode": {
    "name": "ipython",
    "version": 3
   },
   "file_extension": ".py",
   "mimetype": "text/x-python",
   "name": "python",
   "nbconvert_exporter": "python",
   "pygments_lexer": "ipython3",
   "version": "3.6.8"
  }
 },
 "nbformat": 4,
 "nbformat_minor": 2
}
