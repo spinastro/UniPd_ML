{
 "cells": [
  {
   "cell_type": "code",
   "execution_count": 5,
   "metadata": {},
   "outputs": [],
   "source": [
    "import matplotlib.pyplot\n",
    "import numpy\n",
    "import sklearn\n",
    "import mpl_toolkits.mplot3d\n",
    "import pandas\n",
    "import keras\n",
    "import graphviz\n",
    "import time\n",
    "import ipywidgets"
   ]
  },
  {
   "cell_type": "markdown",
   "metadata": {},
   "source": [
    "Please, let me know if you have problems with these packages.\n",
    "\n",
    "...and finally a test for pictures.\n",
    "\n",
    "![](https://dl.dropboxusercontent.com/s/4274mm3ygi28m1a/test.jpg?dl=0)\n",
    "\n",
    "\n",
    "For any problem write me at lorenzo.spina@inaf.it"
   ]
  },
  {
   "cell_type": "code",
   "execution_count": 4,
   "metadata": {},
   "outputs": [
    {
     "name": "stdout",
     "output_type": "stream",
     "text": [
      "End of the test\n"
     ]
    }
   ],
   "source": [
    "print(\"End of the test\")"
   ]
  },
  {
   "cell_type": "code",
   "execution_count": null,
   "metadata": {},
   "outputs": [],
   "source": []
  }
 ],
 "metadata": {
  "kernelspec": {
   "display_name": "Python 3",
   "language": "python",
   "name": "python3"
  },
  "language_info": {
   "codemirror_mode": {
    "name": "ipython",
    "version": 3
   },
   "file_extension": ".py",
   "mimetype": "text/x-python",
   "name": "python",
   "nbconvert_exporter": "python",
   "pygments_lexer": "ipython3",
   "version": "3.6.8"
  }
 },
 "nbformat": 4,
 "nbformat_minor": 2
}
